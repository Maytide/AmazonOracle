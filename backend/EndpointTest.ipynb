{
 "cells": [
  {
   "cell_type": "code",
   "execution_count": 1,
   "metadata": {
    "collapsed": true
   },
   "outputs": [],
   "source": [
    "import requests\n",
    "import base64\n",
    "import json"
   ]
  },
  {
   "cell_type": "code",
   "execution_count": 2,
   "metadata": {
    "collapsed": true
   },
   "outputs": [],
   "source": [
    "with open('/home/haoran/Desktop/test_images/1.jpg', 'rb') as image:\n",
    "    encoded_string = base64.b64encode(image.read())"
   ]
  },
  {
   "cell_type": "code",
   "execution_count": 3,
   "metadata": {
    "scrolled": true
   },
   "outputs": [
    {
     "data": {
      "text/plain": [
       "10359844"
      ]
     },
     "execution_count": 3,
     "metadata": {},
     "output_type": "execute_result"
    }
   ],
   "source": [
    "len(encoded_string)"
   ]
  },
  {
   "cell_type": "code",
   "execution_count": 4,
   "metadata": {
    "collapsed": true
   },
   "outputs": [],
   "source": [
    "r = requests.post(url = 'http://n1njacyb.org/endpoint/', data = json.dumps({'img': str(encoded_string)[2:]}))"
   ]
  },
  {
   "cell_type": "code",
   "execution_count": 5,
   "metadata": {},
   "outputs": [
    {
     "data": {
      "text/plain": [
       "'OK'"
      ]
     },
     "execution_count": 5,
     "metadata": {},
     "output_type": "execute_result"
    }
   ],
   "source": [
    "r.reason"
   ]
  },
  {
   "cell_type": "code",
   "execution_count": 6,
   "metadata": {},
   "outputs": [
    {
     "data": {
      "text/plain": [
       "200"
      ]
     },
     "execution_count": 6,
     "metadata": {},
     "output_type": "execute_result"
    }
   ],
   "source": [
    "r.status_code"
   ]
  },
  {
   "cell_type": "code",
   "execution_count": 7,
   "metadata": {
    "scrolled": true
   },
   "outputs": [
    {
     "data": {
      "text/plain": [
       "{'predicted_cat': 'Office Products',\n",
       " 'predicted_price': 12.3,\n",
       " 'predicted_price_avg': 354.16,\n",
       " 'similar_items': [{'asin': 'https://www.amazon.ca/gp/product/B0002ITR68',\n",
       "   'exists': True,\n",
       "   'image_url': 'https://images-na.ssl-images-amazon.com/images/I/41lY62VNTpL.jpg',\n",
       "   'key': 0,\n",
       "   'price': 386.38,\n",
       "   'title': 'Mont Blanc Classique Ballpoint Pen with Platinum Trim, Black (2866)'},\n",
       "  {'asin': 'https://www.amazon.ca/gp/product/B00MPQMIWK',\n",
       "   'exists': True,\n",
       "   'image_url': 'https://images-na.ssl-images-amazon.com/images/I/41oCAv%2B6ZyL.jpg',\n",
       "   'key': 1,\n",
       "   'price': 671.56,\n",
       "   'title': 'Parker Duofold Centennial Big Red, Fountain Pen with Medium solid gold nib (1907189)'},\n",
       "  {'asin': 'https://www.amazon.ca/gp/product/B00AJE9IHI',\n",
       "   'exists': True,\n",
       "   'image_url': 'https://images-na.ssl-images-amazon.com/images/I/41wK9AiBmXL.jpg',\n",
       "   'key': 2,\n",
       "   'price': 479.83,\n",
       "   'title': 'Pelikan M400 Fountain Pen Special Edition Tortoiseshell Brown (Extra Fine)'},\n",
       "  {'asin': 'https://www.amazon.ca/gp/product/B06Y1P7JS5',\n",
       "   'exists': True,\n",
       "   'image_url': 'https://images-na.ssl-images-amazon.com/images/I/41E55QU16QL.jpg',\n",
       "   'key': 3,\n",
       "   'price': 31.0,\n",
       "   'title': 'Lamy Safari Fountain Pen- Petrol Blue- Limited Edition 2017 (Medium)'},\n",
       "  {'asin': 'https://www.amazon.ca/gp/product/B0017OR05Q',\n",
       "   'exists': True,\n",
       "   'image_url': 'https://images-na.ssl-images-amazon.com/images/I/419BTcSDtvL.jpg',\n",
       "   'key': 4,\n",
       "   'price': 6.88,\n",
       "   'title': 'Pentel Tradio Pulaman, Black Ink (TRJ50-A)'},\n",
       "  {'asin': 'https://www.amazon.ca/gp/product/B06XDKGPDL',\n",
       "   'exists': True,\n",
       "   'image_url': 'https://images-na.ssl-images-amazon.com/images/I/419Rzf2xegL.jpg',\n",
       "   'key': 5,\n",
       "   'price': 56.51,\n",
       "   'title': 'Fisher Space Pen Writes upside down Ballpoint Pen, Black (#CLUTCH)'},\n",
       "  {'asin': 'https://www.amazon.ca/gp/product/B074J99PWK',\n",
       "   'exists': True,\n",
       "   'image_url': 'https://images-na.ssl-images-amazon.com/images/I/31ZFbGPYLAL.jpg',\n",
       "   'key': 6,\n",
       "   'price': 62.99,\n",
       "   'title': 'Lgsixe Digital Voice Recorder Pen,8GB Voice Activated Recording Ballpoint Pen, Lectures,Meetings,Interview,Speech Dictaphone,One Button Recording rechargeable voice recorder'},\n",
       "  {'asin': 'https://www.amazon.ca/gp/product/B01MCVC0QD',\n",
       "   'exists': True,\n",
       "   'image_url': 'https://images-na.ssl-images-amazon.com/images/I/31oa-xG%2BfTL.jpg',\n",
       "   'key': 7,\n",
       "   'price': 566.17,\n",
       "   'title': 'Montegrappa UEFA Champions League Light Blue Ballpoint Pen'},\n",
       "  {'asin': 'https://www.amazon.ca/gp/product/B005699GN2',\n",
       "   'exists': True,\n",
       "   'image_url': 'https://images-na.ssl-images-amazon.com/images/I/31I043QlDAL.jpg',\n",
       "   'key': 8,\n",
       "   'price': 641.66,\n",
       "   'title': 'Pilot Sterling Collection Fountain Pen, Mount Fuji Design, Medium Nib -60685'},\n",
       "  {'asin': 'https://www.amazon.ca/gp/product/B006ZS2HQQ',\n",
       "   'exists': True,\n",
       "   'image_url': 'https://images-na.ssl-images-amazon.com/images/I/41RwuJ4DX8L.jpg',\n",
       "   'key': 9,\n",
       "   'price': 638.58,\n",
       "   'title': 'Mont Blanc StarWalker Mystery Fineliner, Black (104226)'}]}"
      ]
     },
     "execution_count": 7,
     "metadata": {},
     "output_type": "execute_result"
    }
   ],
   "source": [
    "r.json()"
   ]
  },
  {
   "cell_type": "code",
   "execution_count": null,
   "metadata": {
    "collapsed": true
   },
   "outputs": [],
   "source": []
  }
 ],
 "metadata": {
  "kernelspec": {
   "display_name": "Python 3",
   "language": "python",
   "name": "python3"
  },
  "language_info": {
   "codemirror_mode": {
    "name": "ipython",
    "version": 3
   },
   "file_extension": ".py",
   "mimetype": "text/x-python",
   "name": "python",
   "nbconvert_exporter": "python",
   "pygments_lexer": "ipython3",
   "version": "3.6.3"
  }
 },
 "nbformat": 4,
 "nbformat_minor": 2
}
